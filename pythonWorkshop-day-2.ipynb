{
 "cells": [
  {
   "cell_type": "markdown",
   "metadata": {},
   "source": [
    "# # 3-DAY PYTHON WORKSHOP\n",
    "\n",
    "## UAF WORKSHOP DAY-2"
   ]
  },
  {
   "cell_type": "markdown",
   "metadata": {},
   "source": []
  }
 ],
 "metadata": {
  "kernelspec": {
   "display_name": "Python 3.10.7 64-bit",
   "language": "python",
   "name": "python3"
  },
  "language_info": {
   "name": "python",
   "version": "3.10.7"
  },
  "orig_nbformat": 4,
  "vscode": {
   "interpreter": {
    "hash": "84f1f4f001fb1f95815190c08e959235db4a822f679c7ef1dc5db59b9c8581b4"
   }
  }
 },
 "nbformat": 4,
 "nbformat_minor": 2
}
