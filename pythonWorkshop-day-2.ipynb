{
 "cells": [
  {
   "cell_type": "markdown",
   "metadata": {},
   "source": [
    "# <b>3-DAY PYTHON WORKSHOP</b>\n",
    "\n",
    "## <b>UAF WORKSHOP DAY-2</b>"
   ]
  },
  {
   "cell_type": "markdown",
   "metadata": {},
   "source": [
    "### <b> ABC OF STATISTICS </b>\n",
    "\n",
    "Census  ---->  study of population\n",
    "\n",
    "Sample  ---->  study of surveys\n",
    "\n",
    "> You cannot do inferential stats on the population data but only descriptive statistical analysis.\n",
    "\n",
    "How to define that it is the data of population or sample?\n",
    "\n",
    "> Descriptive statistical Analysis: Summarize the data, Facts\n",
    "\n",
    "> Inferential Statistical Analysis: Future Prediction, conclusion\n",
    "\n",
    "\n",
    "\n"
   ]
  },
  {
   "cell_type": "markdown",
   "metadata": {},
   "source": [
    "### <b> SOME EXAMPLES OF DESCRIPTIVE AND INFERENTIAL STATISTICS </b>\n",
    "\n",
    "1. In the year of 2010, 148 million americans will be enrolled in HMO  --> Inferential\n",
    "2. 9 out of 10 on the job fatalities are men --> Inferential\n",
    "3. Expenditures for the cable industry were $5.66 Billion in 1996 --> Descriptive\n",
    "4. The median houshold income for people aged 25-34 is $35,888 --> Descriptive\n",
    "5. Allergy Therapy makes bees go away --> Inferential\n",
    "6. Drinking decaffeinated coffee can raise cholesterol levels by 7% --> Inferential "
   ]
  }
 ],
 "metadata": {
  "kernelspec": {
   "display_name": "Python 3.10.7 64-bit",
   "language": "python",
   "name": "python3"
  },
  "language_info": {
   "name": "python",
   "version": "3.10.7"
  },
  "orig_nbformat": 4,
  "vscode": {
   "interpreter": {
    "hash": "84f1f4f001fb1f95815190c08e959235db4a822f679c7ef1dc5db59b9c8581b4"
   }
  }
 },
 "nbformat": 4,
 "nbformat_minor": 2
}
